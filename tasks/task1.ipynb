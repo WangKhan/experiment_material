{
 "cells": [
  {
   "cell_type": "code",
   "execution_count": null,
   "id": "9114fcaa",
   "metadata": {},
   "outputs": [],
   "source": [
    "# 实验一  Python数字图像处理初步\n",
    "'''\n",
    "一、实验目的与要求\n",
    "掌握OpenCV-python安装；\n",
    "掌握python语言与openCV的交互方法；\n",
    "掌握对图像的基本操作，如：读取，显示，保存，以及对视频的读取，保存；\n",
    "掌握使用OpenCV进行简单运作，如：画图，对鼠标的处理事件等。\n",
    "'''"
   ]
  },
  {
   "cell_type": "code",
   "execution_count": null,
   "id": "bd28db02",
   "metadata": {},
   "outputs": [],
   "source": [
    "# Jupyterhub中已经配置了所有需要的依赖，可以直接进行实验\n",
    "# 1.图像读取与保存\n",
    "# 下面给出读取、显示，保存一幅图像的程序\n",
    "import numpy as np\n",
    "import cv2 \n",
    "img = cv2.imread('test.png',0) \n",
    "cv2.imshow('image', img)\n",
    "k = cv2.waitKey(0)\n",
    "if k == 27:         # wait for ESC key to exit     \n",
    "  cv2.destroyAllWindows()\n",
    "elif k == ord('s'):  # wait for 's' key to save and exit     c\n",
    "  v2.imwrite('test2.jpg',img)     \n",
    "  cv2.destroyAllWindows()"
   ]
  },
  {
   "cell_type": "code",
   "execution_count": null,
   "metadata": {},
   "outputs": [],
   "source": [
    "# 读取视频文件，显示视频，保存视频文件\n",
    "'''\n",
    "用到cv2.VideoCapture()和cv2.VideoWrite()函数。\n",
    "在cv2.VideoCapture函数指定输入视频文件名称，在播放每一帧时，使用 cv2.waiKey() 设置适当的持续时间。\n",
    "如果设置的太低视频就会播放的非常快，如果设置的太高就会播放的很慢（你可以使用这种方法控制视频的播放速度）。\n",
    "通常情况下 25 毫秒就可以了。\n",
    "'''\n",
    "import numpy as np\n",
    "import cv2 \n",
    "cap = cv2.VideoCapture('vtest.avi') \n",
    "while(cap.isOpened()):     \n",
    "  ret, frame = cap.read()     \n",
    "  if ret:        \n",
    "    gray = cv2.cvtColor(frame, cv2.COLOR_BGR2GRAY)        \n",
    "    cv2.imshow('frame',gray)     \n",
    "  if cv2.waitKey(1) & 0xFF == ord('q')  :         \n",
    "    break \n",
    "cap.release()\n",
    "cv2.destroyAllWindows()\n"
   ]
  },
  {
   "cell_type": "code",
   "execution_count": null,
   "id": "eea8efef",
   "metadata": {},
   "outputs": [],
   "source": []
  }
 ],
 "metadata": {
  "interpreter": {
   "hash": "31f2aee4e71d21fbe5cf8b01ff0e069b9275f58929596ceb00d14d90e3e16cd6"
  },
  "kernelspec": {
   "display_name": "Python 3.8.9 64-bit",
   "language": "python",
   "name": "python3"
  },
  "language_info": {
   "codemirror_mode": {
    "name": "ipython",
    "version": 3
   },
   "file_extension": ".py",
   "mimetype": "text/x-python",
   "name": "python",
   "nbconvert_exporter": "python",
   "pygments_lexer": "ipython3",
   "version": "3.8.9"
  }
 },
 "nbformat": 4,
 "nbformat_minor": 5
}
